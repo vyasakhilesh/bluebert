{
 "cells": [
  {
   "cell_type": "code",
   "execution_count": 139,
   "metadata": {},
   "outputs": [],
   "source": [
    "import pandas as pd\n",
    "import os\n",
    "\n",
    "import matplotlib\n",
    "\n",
    "pd.options.display.max_columns=10\n",
    "\n",
    "pd.options.display.max_colwidth=800"
   ]
  },
  {
   "cell_type": "code",
   "execution_count": 140,
   "metadata": {},
   "outputs": [],
   "source": [
    "DATASET_DIR = os.environ['DATASET_DIR']"
   ]
  },
  {
   "cell_type": "code",
   "execution_count": 141,
   "metadata": {},
   "outputs": [
    {
     "name": "stdout",
     "output_type": "stream",
     "text": [
      "total 21815700\n",
      "drwxr-xr-x 3 vyasa vyasa           7 Oct  7 12:59 .\n",
      "drwxr-xr-x 4 vyasa vyasa           9 Oct  1 12:15 ..\n",
      "drwxr-xr-x 2 vyasa vyasa        1202 Sep 14 14:33 2019_merged_json_fixed\n",
      "-rw-r--r-- 1 vyasa vyasa 22846312455 Sep 11 14:25 2019_merged_json_fixed.zip\n",
      "-rw-r--r-- 1 vyasa vyasa    47646808 Oct  7 13:00 new_pattern_pred_label_pubmed_sample.tsv\n",
      "-rw-r--r-- 1 vyasa vyasa    46324233 Oct  2 16:23 pubmed_file_bert_data_1_2.tsv\n",
      "-rw-r--r-- 1 vyasa vyasa    47346687 Oct  2 16:23 pubmed_file_data_1_2.tsv\n"
     ]
    }
   ],
   "source": [
    "!ls -al $DATASET_DIR/pubmed_data"
   ]
  },
  {
   "cell_type": "code",
   "execution_count": 142,
   "metadata": {},
   "outputs": [
    {
     "data": {
      "text/plain": [
       "'/nfs/home/vyasa/projects/proj_os/data_os/bluebert_data/bert_data/ddi2013-type/pubmed_data/'"
      ]
     },
     "execution_count": 142,
     "metadata": {},
     "output_type": "execute_result"
    }
   ],
   "source": [
    "filepath = os.path.join(DATASET_DIR+'/pubmed_data/')\n",
    "filepath"
   ]
  },
  {
   "cell_type": "code",
   "execution_count": 143,
   "metadata": {},
   "outputs": [],
   "source": [
    "df = pd.read_csv(os.path.join(filepath+'new_pattern_pred_label_pubmed_sample.tsv'), encoding='utf=8', sep='\\t')"
   ]
  },
  {
   "cell_type": "code",
   "execution_count": 144,
   "metadata": {},
   "outputs": [],
   "source": [
    "# Data Checksum(df['drug_1_pos']>df['drug_2_pos'])"
   ]
  },
  {
   "cell_type": "code",
   "execution_count": 145,
   "metadata": {},
   "outputs": [],
   "source": [
    "#choose only sequence length less than <= 510\n",
    "drug_2_pos_len = df['drug_2_pos']+2\n",
    "\n",
    "df_act = df[drug_2_pos_len<=510]"
   ]
  },
  {
   "cell_type": "code",
   "execution_count": 146,
   "metadata": {},
   "outputs": [
    {
     "data": {
      "text/html": [
       "<div>\n",
       "<style scoped>\n",
       "    .dataframe tbody tr th:only-of-type {\n",
       "        vertical-align: middle;\n",
       "    }\n",
       "\n",
       "    .dataframe tbody tr th {\n",
       "        vertical-align: top;\n",
       "    }\n",
       "\n",
       "    .dataframe thead th {\n",
       "        text-align: right;\n",
       "    }\n",
       "</style>\n",
       "<table border=\"1\" class=\"dataframe\">\n",
       "  <thead>\n",
       "    <tr style=\"text-align: right;\">\n",
       "      <th></th>\n",
       "      <th>pmid</th>\n",
       "      <th>text_@DRUG$</th>\n",
       "      <th>token_length</th>\n",
       "      <th>drug_1</th>\n",
       "      <th>drug_1_pos</th>\n",
       "      <th>drug_2</th>\n",
       "      <th>drug_2_pos</th>\n",
       "      <th>predicted_label</th>\n",
       "    </tr>\n",
       "  </thead>\n",
       "  <tbody>\n",
       "    <tr>\n",
       "      <th>588</th>\n",
       "      <td>15584</td>\n",
       "      <td>Fluorine-19 nuclear magnetic resonance studies of effects of ligands on trifluoroacetonylated supernatant aspartate transaminase. The selective reaction of Cys-45 and -82, on the one hand, and Cys-390, on the other, with 3-bromo-1,1,1-trifluoropropanone allows for the probing of these regions of aspartate transaminase in the absence and in the presence of enzymatic ligands by 19F nuclear magnetic resonance (NMR). The 19F chemical shifts of the resonance lines differ for the three cysteines and so does their behavior with pH changes. The resonance signals with chemical shifts at 615 and 800 Hz upfield from trifluoroacetic acid correspond to modified cysteine-82 and -45 and have tentatively been assigned in this order. The 615-Hz resonance is affected by pH changes that fit best the infl...</td>\n",
       "      <td>538</td>\n",
       "      <td>alpha-ketoglutarate</td>\n",
       "      <td>372</td>\n",
       "      <td>succinate</td>\n",
       "      <td>508</td>\n",
       "      <td>DDI-false</td>\n",
       "    </tr>\n",
       "    <tr>\n",
       "      <th>2999</th>\n",
       "      <td>29607</td>\n",
       "      <td>Factors affecting the activity of guanylate cyclase in lysates of human blood platelets. 1. Under optimal ionic conditions (4 mM-MnCl2) the specific activity of guanylate cyclase in fresh platelet lysates was about 10nmol of cyclic GMP formed/20 min per mg of protein at 30 degrees C. Activity was 15% of optimum with 10mM-MgCl2 and negligible with 4mM-CaCl2. Synergism between MnCl2 and MgCl2 or CaCl2 was observed when [MnCl2] less than or equal to [GPT]. 2. Lower than optimal specific activities were obtained in assays containing large volumes of platelet lysate, owing to the presence of inhibitory factors that could be removed by ultrafiltration. Adenine nucleotides accounted for less than 50% of the inhibitory activity. 3. Preincubation of lysate for 1 h at 30 degrees C increased the ...</td>\n",
       "      <td>621</td>\n",
       "      <td>indomethacin</td>\n",
       "      <td>385</td>\n",
       "      <td>Lubrol PX</td>\n",
       "      <td>508</td>\n",
       "      <td>DDI-false</td>\n",
       "    </tr>\n",
       "    <tr>\n",
       "      <th>6431</th>\n",
       "      <td>7669</td>\n",
       "      <td>Catecholamine-induced changes in ion transport in short-circuited frog skin and the effect of beta-blockade. 1. A method for measuring bidirectional Cl fluxes has been used to estimate net Cl movements in short-circuited frog skin and to compare these with the short-circuit current (Isc) and Na fluxes. 2. In some experiments bidirectional fluxes of both Na and Cl were measured simultaneously. It was found that the algebraic sum of the net fluxes of these two ions did not differ significantly from the values of Isc, either in untreated or catecholamine-treated skins, except for the half-hour period immediately after catecholamine addition. 3. The net effluxes of Cl produced by noradrenaline (1-6 X 10(-5)M), isoprenaline (8 X 10(-7)M) and adrenaline (6 and 15 X 10(-6)M) were of similar m...</td>\n",
       "      <td>558</td>\n",
       "      <td>Na</td>\n",
       "      <td>366</td>\n",
       "      <td>oxprenolol</td>\n",
       "      <td>508</td>\n",
       "      <td>DDI-false</td>\n",
       "    </tr>\n",
       "    <tr>\n",
       "      <th>9015</th>\n",
       "      <td>5188</td>\n",
       "      <td>The metabolic activation of the carcinogen 1'-hydroxysafrole in vivo and in vitro and the electrophilic reactivities of possible ultimate carcinogens. Administration of [2',3'-3H]-1'-hydroxysafrole to rats or mice resulted in the formation of hepatic DNA-, ribosomal RNA-, and protein-bound 3H derivatives. Alkaline digestion of the 3H-protein released 0.1 to 0.3% of the 3H as a derivative that was identified as 3'-methylmercaptoisosafrole by its cochromatography in five solvent systems with the synthetic compound. 1'-Hydroxysafrole was metabolized at a low rate by rat and mouse liver cytosols in a 3'-phosphoadenosine 5'-phosphosulfate-dependent reaction to a derivative (presumably the sulfuric acid ester) that was captured by its reaction with RNA. Likewise, 1'-hydroxysafrole was oxidiz...</td>\n",
       "      <td>542</td>\n",
       "      <td>1'-hydroxysafrole-2'</td>\n",
       "      <td>240</td>\n",
       "      <td>2',3'-dehydrosafrole</td>\n",
       "      <td>508</td>\n",
       "      <td>DDI-false</td>\n",
       "    </tr>\n",
       "    <tr>\n",
       "      <th>10144</th>\n",
       "      <td>4318</td>\n",
       "      <td>An extracellular aminopeptidase from Clostridium histolyticum. An aminopeptidase was isolated from the culture filtrate of Clostridium histolyticum and purified to homogeneity. Absence of endopeptidase activity in the purified preparation was demonstrated. Gel filtration on a calibrated column indicates an apparent molecular weight of 340000 for the native enzyme. Gel electrophoresis of the denatured enzyme in the presence of dodecylsulfate in constant acrylamide concentration and in a concentration gradient, resulted in the appearance of a single component for which a molecular weight of 51000 and 59000 respectively, was calculated. From mobilities of crosslinked and denatured protein species a molecular weight of 56000 was obtained for the monomer. Specificity studies show that the e...</td>\n",
       "      <td>511</td>\n",
       "      <td>Phe</td>\n",
       "      <td>326</td>\n",
       "      <td>diisopropylphosphofluoridate</td>\n",
       "      <td>508</td>\n",
       "      <td>DDI-false</td>\n",
       "    </tr>\n",
       "    <tr>\n",
       "      <th>13921</th>\n",
       "      <td>13085</td>\n",
       "      <td>Effect of sulfonylureas on triglyceride metabolism in the rat liver: possible role of the lysosomes in hepatic lipolysis. It has been suggested previously that chlorpropamide and other hypoglycemic @DRUG$ interfere with hepatic triglyceride breakdown. Since ketogenesis from endogenous hepatic lipid stores is a measure of hepatic triglyceride hydrolysis, ketogenesis derived from endogenous lipids as well as ketogenesis derived from exogenously added isotopic oleate was determined in isolated hepatocytes from fasted rats in an attempt to identify the nature of the direct effects of sulfonylureas on hepatic lipid metabolism. Ketogenesis from endogenous lipids was inhibited by 1 mM chlorpropamide, while ketone production from exogenous oleate did not change. The effect of chlorpropamide on...</td>\n",
       "      <td>558</td>\n",
       "      <td>sulfonylureas</td>\n",
       "      <td>55</td>\n",
       "      <td>triglyceride</td>\n",
       "      <td>508</td>\n",
       "      <td>DDI-false</td>\n",
       "    </tr>\n",
       "    <tr>\n",
       "      <th>14625</th>\n",
       "      <td>9398</td>\n",
       "      <td>Triacylglycerol synthesis in isolated fat cells. Evidence that the sn-glycerol-3-phosphate and dihydroxyacetone phosphate acyltransferase activities are dual catalytic functions of a single microsomal enzyme. The acyl-CoA:sn-glycerol-3-phosphate acyltransferase (EC 2.3.1.15) (glycerol-P acyltransferase) and @DRUG$:dihydroxyacetone phosphate acyltransferase (EC 2.3.1.42) (DHAP acyltransferase) activities were investigated in vitro in order to evaluate the quantitative contribution of the glycerol-P and DHAP pathways for the synthesis of triacylglycerols in isolated fat cells and to test the hypothesis that these two activities may be dual catalytic functions of a single enzyme. More than 85% of both acyltransferase activities was associated with the microsomal subcellular fraction. The ...</td>\n",
       "      <td>524</td>\n",
       "      <td>acyl-CoA</td>\n",
       "      <td>102</td>\n",
       "      <td>glycerol-P</td>\n",
       "      <td>508</td>\n",
       "      <td>DDI-false</td>\n",
       "    </tr>\n",
       "    <tr>\n",
       "      <th>17734</th>\n",
       "      <td>6475</td>\n",
       "      <td>Adrenodoxin reductase. Properties of the complexes of reduced enzyme with NADP+ and NADPH. Anaerobic reduction of the flavoprotein adrenodoxin reductase with NADPH yields a spectrum with long wavelength absorbance, 750 nm and higher. No EPR signal is observed. This spectrum is produced by titration of oxidized adrenodoxin reductase with NADPH, or of dithionite-reduced adrenodoxin reductase with NADP+. Both titrations yield a sharp endpoint at 1 NADP(H) added per @DRUG$. Reduction with other reductants, including dithionite, excess NADH, and catalytic NADP+ with an NADPH generating system, yields a typical fully reduced flavin spectrum, without long wavelength absorbance. The species formed on NADPH reduction appears to be a two-electron-containing complex, with a low dissociation const...</td>\n",
       "      <td>764</td>\n",
       "      <td>flavin</td>\n",
       "      <td>131</td>\n",
       "      <td>NADP+</td>\n",
       "      <td>508</td>\n",
       "      <td>DDI-false</td>\n",
       "    </tr>\n",
       "    <tr>\n",
       "      <th>22279</th>\n",
       "      <td>10279</td>\n",
       "      <td>Photosystem II regulation of macromolecule synthesis in the blue-green alga Aphanocapsa 6714. Polymers synthesized by heterotrophically growing (glucose as carbon source)  cultures of Aphanocapsa 6714 were compared with polymers synthesized in photosynthetically grown cultures. Loss of photosystem II by dark incubation, or inhibition of light-grown cells with the photosystem II-specific inhibitor dichlorophenylmethylurea, caused an 80 to 90% reduction in the rate of lipid and total ribonucleic acid synthesis, and more than a 90% reduction in the rate of protein synthesis. In contrast, glycogen synthesis was reduced only about 50% in dark cells and less than 30% in dichlorphenylmethylurea-inhibited cells. After longer heterotrophic growth, glycogen became the major component, whereas in...</td>\n",
       "      <td>658</td>\n",
       "      <td>CO2</td>\n",
       "      <td>380</td>\n",
       "      <td>diphosphate</td>\n",
       "      <td>508</td>\n",
       "      <td>DDI-false</td>\n",
       "    </tr>\n",
       "    <tr>\n",
       "      <th>22932</th>\n",
       "      <td>14688</td>\n",
       "      <td>The effect of monovalent and divalent cations on the activity of Streptococcus lactis C10 pyruvate kinase. The pyruvate kinase (ATP: pyruvate 2-O-phosphotransferase, EC 2.7.1.40) from Streptococcus lactis C10 had an obligatory requirement for both a monovalent cation and divalent cation. NH+4 and K+ activated the enzyme in a sigmoidal manner (nH =1.55) at similar concentrations, whereas Na+ and Li+ could only weakly activate the enzyme. Of eight divalent cations studied, only three (Co2+, Mg2+ and Mn2+) activated the enzyme. The remaining five divalent cations (Cu2+, Zn2+, Ca2+, Ni2+ and Ba2+) inhibited the Mg2+ activated enzyme to varying degrees. (Cu2+ completely inhibited activity at 0.1 mM while Ba2+, the least potent inhibitor, caused 50% inhibition at 3.2 mM). In the presence of ...</td>\n",
       "      <td>599</td>\n",
       "      <td>phosphoenolyruvate</td>\n",
       "      <td>503</td>\n",
       "      <td>Mg2+</td>\n",
       "      <td>508</td>\n",
       "      <td>DDI-false</td>\n",
       "    </tr>\n",
       "  </tbody>\n",
       "</table>\n",
       "</div>"
      ],
      "text/plain": [
       "        pmid  \\\n",
       "588    15584   \n",
       "2999   29607   \n",
       "6431    7669   \n",
       "9015    5188   \n",
       "10144   4318   \n",
       "13921  13085   \n",
       "14625   9398   \n",
       "17734   6475   \n",
       "22279  10279   \n",
       "22932  14688   \n",
       "\n",
       "                                                                                                                                                                                                                                                                                                                                                                                                                                                                                                                                                                                                                                                                                                                                                                                                                           text_@DRUG$  \\\n",
       "588    Fluorine-19 nuclear magnetic resonance studies of effects of ligands on trifluoroacetonylated supernatant aspartate transaminase. The selective reaction of Cys-45 and -82, on the one hand, and Cys-390, on the other, with 3-bromo-1,1,1-trifluoropropanone allows for the probing of these regions of aspartate transaminase in the absence and in the presence of enzymatic ligands by 19F nuclear magnetic resonance (NMR). The 19F chemical shifts of the resonance lines differ for the three cysteines and so does their behavior with pH changes. The resonance signals with chemical shifts at 615 and 800 Hz upfield from trifluoroacetic acid correspond to modified cysteine-82 and -45 and have tentatively been assigned in this order. The 615-Hz resonance is affected by pH changes that fit best the infl...   \n",
       "2999   Factors affecting the activity of guanylate cyclase in lysates of human blood platelets. 1. Under optimal ionic conditions (4 mM-MnCl2) the specific activity of guanylate cyclase in fresh platelet lysates was about 10nmol of cyclic GMP formed/20 min per mg of protein at 30 degrees C. Activity was 15% of optimum with 10mM-MgCl2 and negligible with 4mM-CaCl2. Synergism between MnCl2 and MgCl2 or CaCl2 was observed when [MnCl2] less than or equal to [GPT]. 2. Lower than optimal specific activities were obtained in assays containing large volumes of platelet lysate, owing to the presence of inhibitory factors that could be removed by ultrafiltration. Adenine nucleotides accounted for less than 50% of the inhibitory activity. 3. Preincubation of lysate for 1 h at 30 degrees C increased the ...   \n",
       "6431   Catecholamine-induced changes in ion transport in short-circuited frog skin and the effect of beta-blockade. 1. A method for measuring bidirectional Cl fluxes has been used to estimate net Cl movements in short-circuited frog skin and to compare these with the short-circuit current (Isc) and Na fluxes. 2. In some experiments bidirectional fluxes of both Na and Cl were measured simultaneously. It was found that the algebraic sum of the net fluxes of these two ions did not differ significantly from the values of Isc, either in untreated or catecholamine-treated skins, except for the half-hour period immediately after catecholamine addition. 3. The net effluxes of Cl produced by noradrenaline (1-6 X 10(-5)M), isoprenaline (8 X 10(-7)M) and adrenaline (6 and 15 X 10(-6)M) were of similar m...   \n",
       "9015   The metabolic activation of the carcinogen 1'-hydroxysafrole in vivo and in vitro and the electrophilic reactivities of possible ultimate carcinogens. Administration of [2',3'-3H]-1'-hydroxysafrole to rats or mice resulted in the formation of hepatic DNA-, ribosomal RNA-, and protein-bound 3H derivatives. Alkaline digestion of the 3H-protein released 0.1 to 0.3% of the 3H as a derivative that was identified as 3'-methylmercaptoisosafrole by its cochromatography in five solvent systems with the synthetic compound. 1'-Hydroxysafrole was metabolized at a low rate by rat and mouse liver cytosols in a 3'-phosphoadenosine 5'-phosphosulfate-dependent reaction to a derivative (presumably the sulfuric acid ester) that was captured by its reaction with RNA. Likewise, 1'-hydroxysafrole was oxidiz...   \n",
       "10144  An extracellular aminopeptidase from Clostridium histolyticum. An aminopeptidase was isolated from the culture filtrate of Clostridium histolyticum and purified to homogeneity. Absence of endopeptidase activity in the purified preparation was demonstrated. Gel filtration on a calibrated column indicates an apparent molecular weight of 340000 for the native enzyme. Gel electrophoresis of the denatured enzyme in the presence of dodecylsulfate in constant acrylamide concentration and in a concentration gradient, resulted in the appearance of a single component for which a molecular weight of 51000 and 59000 respectively, was calculated. From mobilities of crosslinked and denatured protein species a molecular weight of 56000 was obtained for the monomer. Specificity studies show that the e...   \n",
       "13921  Effect of sulfonylureas on triglyceride metabolism in the rat liver: possible role of the lysosomes in hepatic lipolysis. It has been suggested previously that chlorpropamide and other hypoglycemic @DRUG$ interfere with hepatic triglyceride breakdown. Since ketogenesis from endogenous hepatic lipid stores is a measure of hepatic triglyceride hydrolysis, ketogenesis derived from endogenous lipids as well as ketogenesis derived from exogenously added isotopic oleate was determined in isolated hepatocytes from fasted rats in an attempt to identify the nature of the direct effects of sulfonylureas on hepatic lipid metabolism. Ketogenesis from endogenous lipids was inhibited by 1 mM chlorpropamide, while ketone production from exogenous oleate did not change. The effect of chlorpropamide on...   \n",
       "14625  Triacylglycerol synthesis in isolated fat cells. Evidence that the sn-glycerol-3-phosphate and dihydroxyacetone phosphate acyltransferase activities are dual catalytic functions of a single microsomal enzyme. The acyl-CoA:sn-glycerol-3-phosphate acyltransferase (EC 2.3.1.15) (glycerol-P acyltransferase) and @DRUG$:dihydroxyacetone phosphate acyltransferase (EC 2.3.1.42) (DHAP acyltransferase) activities were investigated in vitro in order to evaluate the quantitative contribution of the glycerol-P and DHAP pathways for the synthesis of triacylglycerols in isolated fat cells and to test the hypothesis that these two activities may be dual catalytic functions of a single enzyme. More than 85% of both acyltransferase activities was associated with the microsomal subcellular fraction. The ...   \n",
       "17734  Adrenodoxin reductase. Properties of the complexes of reduced enzyme with NADP+ and NADPH. Anaerobic reduction of the flavoprotein adrenodoxin reductase with NADPH yields a spectrum with long wavelength absorbance, 750 nm and higher. No EPR signal is observed. This spectrum is produced by titration of oxidized adrenodoxin reductase with NADPH, or of dithionite-reduced adrenodoxin reductase with NADP+. Both titrations yield a sharp endpoint at 1 NADP(H) added per @DRUG$. Reduction with other reductants, including dithionite, excess NADH, and catalytic NADP+ with an NADPH generating system, yields a typical fully reduced flavin spectrum, without long wavelength absorbance. The species formed on NADPH reduction appears to be a two-electron-containing complex, with a low dissociation const...   \n",
       "22279  Photosystem II regulation of macromolecule synthesis in the blue-green alga Aphanocapsa 6714. Polymers synthesized by heterotrophically growing (glucose as carbon source)  cultures of Aphanocapsa 6714 were compared with polymers synthesized in photosynthetically grown cultures. Loss of photosystem II by dark incubation, or inhibition of light-grown cells with the photosystem II-specific inhibitor dichlorophenylmethylurea, caused an 80 to 90% reduction in the rate of lipid and total ribonucleic acid synthesis, and more than a 90% reduction in the rate of protein synthesis. In contrast, glycogen synthesis was reduced only about 50% in dark cells and less than 30% in dichlorphenylmethylurea-inhibited cells. After longer heterotrophic growth, glycogen became the major component, whereas in...   \n",
       "22932  The effect of monovalent and divalent cations on the activity of Streptococcus lactis C10 pyruvate kinase. The pyruvate kinase (ATP: pyruvate 2-O-phosphotransferase, EC 2.7.1.40) from Streptococcus lactis C10 had an obligatory requirement for both a monovalent cation and divalent cation. NH+4 and K+ activated the enzyme in a sigmoidal manner (nH =1.55) at similar concentrations, whereas Na+ and Li+ could only weakly activate the enzyme. Of eight divalent cations studied, only three (Co2+, Mg2+ and Mn2+) activated the enzyme. The remaining five divalent cations (Cu2+, Zn2+, Ca2+, Ni2+ and Ba2+) inhibited the Mg2+ activated enzyme to varying degrees. (Cu2+ completely inhibited activity at 0.1 mM while Ba2+, the least potent inhibitor, caused 50% inhibition at 3.2 mM). In the presence of ...   \n",
       "\n",
       "       token_length                drug_1  drug_1_pos  \\\n",
       "588             538   alpha-ketoglutarate         372   \n",
       "2999            621          indomethacin         385   \n",
       "6431            558                    Na         366   \n",
       "9015            542  1'-hydroxysafrole-2'         240   \n",
       "10144           511                   Phe         326   \n",
       "13921           558         sulfonylureas          55   \n",
       "14625           524              acyl-CoA         102   \n",
       "17734           764                flavin         131   \n",
       "22279           658                   CO2         380   \n",
       "22932           599    phosphoenolyruvate         503   \n",
       "\n",
       "                             drug_2  drug_2_pos predicted_label  \n",
       "588                       succinate         508       DDI-false  \n",
       "2999                      Lubrol PX         508       DDI-false  \n",
       "6431                     oxprenolol         508       DDI-false  \n",
       "9015           2',3'-dehydrosafrole         508       DDI-false  \n",
       "10144  diisopropylphosphofluoridate         508       DDI-false  \n",
       "13921                  triglyceride         508       DDI-false  \n",
       "14625                    glycerol-P         508       DDI-false  \n",
       "17734                         NADP+         508       DDI-false  \n",
       "22279                   diphosphate         508       DDI-false  \n",
       "22932                          Mg2+         508       DDI-false  "
      ]
     },
     "execution_count": 146,
     "metadata": {},
     "output_type": "execute_result"
    }
   ],
   "source": [
    "df_act[df_act['drug_2_pos']>=508].head(10)"
   ]
  },
  {
   "cell_type": "code",
   "execution_count": 147,
   "metadata": {},
   "outputs": [
    {
     "name": "stderr",
     "output_type": "stream",
     "text": [
      "/nfs/home/vyasa/software/pkg/blue_bert_py_env/lib/python3.7/site-packages/ipykernel_launcher.py:1: SettingWithCopyWarning: \n",
      "A value is trying to be set on a copy of a slice from a DataFrame.\n",
      "Try using .loc[row_indexer,col_indexer] = value instead\n",
      "\n",
      "See the caveats in the documentation: http://pandas.pydata.org/pandas-docs/stable/user_guide/indexing.html#returning-a-view-versus-a-copy\n",
      "  \"\"\"Entry point for launching an IPython kernel.\n"
     ]
    }
   ],
   "source": [
    "df_act['drug2_drug1_dis'] = df_act['drug_2_pos']-df_act['drug_1_pos']"
   ]
  },
  {
   "cell_type": "code",
   "execution_count": 148,
   "metadata": {},
   "outputs": [
    {
     "data": {
      "text/plain": [
       "(28244, 9)"
      ]
     },
     "execution_count": 148,
     "metadata": {},
     "output_type": "execute_result"
    }
   ],
   "source": [
    "df_act.shape"
   ]
  },
  {
   "cell_type": "code",
   "execution_count": 149,
   "metadata": {},
   "outputs": [
    {
     "data": {
      "text/plain": [
       "<AxesSubplot:>"
      ]
     },
     "execution_count": 149,
     "metadata": {},
     "output_type": "execute_result"
    },
    {
     "data": {
      "image/png": "[encoded data removed]",
      "text/plain": [
       "<Figure size 432x288 with 1 Axes>"
      ]
     },
     "metadata": {
      "needs_background": "light"
     },
     "output_type": "display_data"
    }
   ],
   "source": [
    "df_act[df_act['predicted_label']!='DDI-false']['predicted_label'].hist()"
   ]
  },
  {
   "cell_type": "code",
   "execution_count": 150,
   "metadata": {},
   "outputs": [
    {
     "data": {
      "text/plain": [
       "<AxesSubplot:>"
      ]
     },
     "execution_count": 150,
     "metadata": {},
     "output_type": "execute_result"
    },
    {
     "data": {
      "image/png": "[encoded data removed]",
      "text/plain": [
       "<Figure size 432x288 with 1 Axes>"
      ]
     },
     "metadata": {
      "needs_background": "light"
     },
     "output_type": "display_data"
    }
   ],
   "source": [
    "df_act[df_act['drug_2_pos']>=170]['predicted_label'].hist()"
   ]
  },
  {
   "cell_type": "code",
   "execution_count": 154,
   "metadata": {},
   "outputs": [
    {
     "data": {
      "text/html": [
       "<div>\n",
       "<style scoped>\n",
       "    .dataframe tbody tr th:only-of-type {\n",
       "        vertical-align: middle;\n",
       "    }\n",
       "\n",
       "    .dataframe tbody tr th {\n",
       "        vertical-align: top;\n",
       "    }\n",
       "\n",
       "    .dataframe thead th {\n",
       "        text-align: right;\n",
       "    }\n",
       "</style>\n",
       "<table border=\"1\" class=\"dataframe\">\n",
       "  <thead>\n",
       "    <tr style=\"text-align: right;\">\n",
       "      <th></th>\n",
       "      <th>pmid</th>\n",
       "      <th>text_@DRUG$</th>\n",
       "      <th>token_length</th>\n",
       "      <th>drug_1</th>\n",
       "      <th>drug_1_pos</th>\n",
       "      <th>drug_2</th>\n",
       "      <th>drug_2_pos</th>\n",
       "      <th>predicted_label</th>\n",
       "      <th>drug2_drug1_dis</th>\n",
       "    </tr>\n",
       "  </thead>\n",
       "  <tbody>\n",
       "    <tr>\n",
       "      <th>5329</th>\n",
       "      <td>1793</td>\n",
       "      <td>The effect of dexamethasone on urinary acidification. Although it is well recognized that mineralocorticoids enhance renal acid excretion, the effect of glucocorticoids on renal acidification is unclear. Oral administration of @DRUG$ to six healthy volunteers for 1 week at a daily dose of 4.5 mg was associated with mild respiratory alkalosis and a small but statistically significant increase in baseline urine pH. However, neither the ability to lower urine pH nor to excrete titratable acid and ammonium after NH4Cl acid-loading was altered. Administration of a single intravenous dose of dexamethasone sodium phosphate (7.5 mg) was associated with a significant rise in urine pH and potassium excretion and decreased titratable acid, ammonium , and @DRUG$ excretion in the absence of changes...</td>\n",
       "      <td>198</td>\n",
       "      <td>dexamethasone</td>\n",
       "      <td>53</td>\n",
       "      <td>phosphorus</td>\n",
       "      <td>171</td>\n",
       "      <td>DDI-effect</td>\n",
       "      <td>118</td>\n",
       "    </tr>\n",
       "  </tbody>\n",
       "</table>\n",
       "</div>"
      ],
      "text/plain": [
       "      pmid  \\\n",
       "5329  1793   \n",
       "\n",
       "                                                                                                                                                                                                                                                                                                                                                                                                                                                                                                                                                                                                                                                                                                                                                                                                                          text_@DRUG$  \\\n",
       "5329  The effect of dexamethasone on urinary acidification. Although it is well recognized that mineralocorticoids enhance renal acid excretion, the effect of glucocorticoids on renal acidification is unclear. Oral administration of @DRUG$ to six healthy volunteers for 1 week at a daily dose of 4.5 mg was associated with mild respiratory alkalosis and a small but statistically significant increase in baseline urine pH. However, neither the ability to lower urine pH nor to excrete titratable acid and ammonium after NH4Cl acid-loading was altered. Administration of a single intravenous dose of dexamethasone sodium phosphate (7.5 mg) was associated with a significant rise in urine pH and potassium excretion and decreased titratable acid, ammonium , and @DRUG$ excretion in the absence of changes...   \n",
       "\n",
       "      token_length         drug_1  drug_1_pos      drug_2  drug_2_pos  \\\n",
       "5329           198  dexamethasone          53  phosphorus         171   \n",
       "\n",
       "     predicted_label  drug2_drug1_dis  \n",
       "5329      DDI-effect              118  "
      ]
     },
     "execution_count": 154,
     "metadata": {},
     "output_type": "execute_result"
    }
   ],
   "source": [
    "df_act[(df_act['drug_2_pos']>=170) & (df_act['predicted_label']!='DDI-false')]"
   ]
  },
  {
   "cell_type": "code",
   "execution_count": 138,
   "metadata": {},
   "outputs": [
    {
     "data": {
      "text/plain": [
       "5329    The effect of dexamethasone on urinary acidification. Although it is well recognized that mineralocorticoids enhance renal acid excretion, the effect of glucocorticoids on renal acidification is unclear. Oral administration of @DRUG$ to six healthy volunteers for 1 week at a daily dose of 4.5 mg was associated with mild respiratory alkalosis and a small but statistically significant increase in baseline urine pH. However, neither the ability to lower urine pH nor to excrete titratable acid and ammonium after NH4Cl acid-loading was altered. Administration of a single intravenous dose of dexamethasone sodium phosphate (7.5 mg) was associated with a significant rise in urine pH and potassium excretion and decreased titratable acid, ammonium , and @DRUG$ excretion in the absence of changes...\n",
       "Name: text_@DRUG$, dtype: object"
      ]
     },
     "execution_count": 138,
     "metadata": {},
     "output_type": "execute_result"
    }
   ],
   "source": [
    "df_act.loc[5329:5329, :]['text_@DRUG$']"
   ]
  },
  {
   "cell_type": "code",
   "execution_count": 163,
   "metadata": {},
   "outputs": [],
   "source": [
    "df_act_d1d2_prel = df_act[df_act['predicted_label']!='DDI-false'][['drug2_drug1_dis', 'predicted_label']]"
   ]
  },
  {
   "cell_type": "code",
   "execution_count": 166,
   "metadata": {},
   "outputs": [
    {
     "data": {
      "text/plain": [
       "<AxesSubplot:>"
      ]
     },
     "execution_count": 166,
     "metadata": {},
     "output_type": "execute_result"
    },
    {
     "data": {
      "image/png": "[encoded data removed]",
      "text/plain": [
       "<Figure size 432x288 with 1 Axes>"
      ]
     },
     "metadata": {
      "needs_background": "light"
     },
     "output_type": "display_data"
    }
   ],
   "source": [
    "df_act_d1d2_prel['drug2_drug1_dis'].hist()"
   ]
  },
  {
   "cell_type": "code",
   "execution_count": 167,
   "metadata": {},
   "outputs": [
    {
     "data": {
      "text/plain": [
       "<AxesSubplot:>"
      ]
     },
     "execution_count": 167,
     "metadata": {},
     "output_type": "execute_result"
    },
    {
     "data": {
      "image/png": "[encoded data removed]",
      "text/plain": [
       "<Figure size 432x288 with 1 Axes>"
      ]
     },
     "metadata": {
      "needs_background": "light"
     },
     "output_type": "display_data"
    }
   ],
   "source": [
    "df_act_d1d2_prel['predicted_label'].hist()"
   ]
  },
  {
   "cell_type": "code",
   "execution_count": null,
   "metadata": {},
   "outputs": [],
   "source": []
  }
 ],
 "metadata": {
  "kernelspec": {
   "display_name": "Python 3",
   "language": "python",
   "name": "python3"
  },
  "language_info": {
   "codemirror_mode": {
    "name": "ipython",
    "version": 3
   },
   "file_extension": ".py",
   "mimetype": "text/x-python",
   "name": "python",
   "nbconvert_exporter": "python",
   "pygments_lexer": "ipython3",
   "version": "3.7.8"
  }
 },
 "nbformat": 4,
 "nbformat_minor": 4
}
